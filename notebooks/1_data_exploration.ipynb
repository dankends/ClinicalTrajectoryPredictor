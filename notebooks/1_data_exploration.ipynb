{
 "cells": [
  {
   "cell_type": "markdown",
   "id": "3343947f",
   "metadata": {},
   "source": [
    "# MIMIC-IV Data Exploration\n",
    "\n",
    "This notebook explores the MIMIC-IV dataset to understand its structure and contents."
   ]
  },
  {
   "cell_type": "code",
   "execution_count": null,
   "id": "d55e0416",
   "metadata": {},
   "outputs": [],
   "source": [
    "# Import necessary libraries\n",
    "import pandas as pd\n",
    "import numpy as np\n",
    "import matplotlib.pyplot as plt\n",
    "import seaborn as sns\n",
    "from pathlib import Path\n",
    "\n",
    "# Set up paths\n",
    "data_dir = Path('../data')\n",
    "raw_dir = data_dir / 'raw'\n",
    "processed_dir = data_dir / 'processed'"
   ]
  },
  {
   "cell_type": "markdown",
   "id": "13b0fbfb",
   "metadata": {},
   "source": [
    "## 1. Load and Explore Admissions Data"
   ]
  },
  {
   "cell_type": "code",
   "execution_count": null,
   "id": "1666c368",
   "metadata": {},
   "outputs": [],
   "source": [
    "# Load admissions data\n",
    "admissions = pd.read_csv(raw_dir / 'admissions.csv')\n",
    "\n",
    "# Display basic information\n",
    "print(f\"Number of admissions: {len(admissions)}\")\n",
    "print(\"\\nFirst few rows:\")\n",
    "admissions.head()"
   ]
  },
  {
   "cell_type": "markdown",
   "id": "b6947961",
   "metadata": {},
   "source": [
    "## 2. Explore Patient Demographics"
   ]
  },
  {
   "cell_type": "code",
   "execution_count": null,
   "id": "46ab0ad2",
   "metadata": {},
   "outputs": [],
   "source": [
    "# Load patient data\n",
    "patients = pd.read_csv(raw_dir / 'patients.csv')\n",
    "\n",
    "# Display basic information\n",
    "print(f\"Number of patients: {len(patients)}\")\n",
    "print(\"\\nFirst few rows:\")\n",
    "patients.head()"
   ]
  },
  {
   "cell_type": "markdown",
   "id": "9a69ccfd",
   "metadata": {},
   "source": [
    "## 3. Explore Lab Results"
   ]
  },
  {
   "cell_type": "code",
   "execution_count": null,
   "id": "4059d3de",
   "metadata": {},
   "outputs": [],
   "source": [
    "# Load lab events\n",
    "labevents = pd.read_csv(raw_dir / 'labevents.csv')\n",
    "\n",
    "# Display basic information\n",
    "print(f\"Number of lab events: {len(labevents)}\")\n",
    "print(\"\\nFirst few rows:\")\n",
    "labevents.head()"
   ]
  },
  {
   "cell_type": "markdown",
   "id": "ba8de49f",
   "metadata": {},
   "source": [
    "## 4. Explore Diagnoses"
   ]
  },
  {
   "cell_type": "code",
   "execution_count": null,
   "id": "eac175ec",
   "metadata": {},
   "outputs": [],
   "source": [
    "# Load diagnoses\n",
    "diagnoses = pd.read_csv(raw_dir / 'diagnoses_icd.csv')\n",
    "\n",
    "# Display basic information\n",
    "print(f\"Number of diagnoses: {len(diagnoses)}\")\n",
    "print(\"\\nFirst few rows:\")\n",
    "diagnoses.head()"
   ]
  },
  {
   "cell_type": "markdown",
   "id": "d8426973",
   "metadata": {},
   "source": [
    "## 5. Data Quality Checks"
   ]
  },
  {
   "cell_type": "code",
   "execution_count": null,
   "id": "8b96bff3",
   "metadata": {},
   "outputs": [],
   "source": [
    "# Check for missing values\n",
    "print(\"Missing values in admissions:\")\n",
    "admissions.isnull().sum()\n",
    "\n",
    "print(\"\\nMissing values in patients:\")\n",
    "patients.isnull().sum()\n",
    "\n",
    "print(\"\\nMissing values in lab events:\")\n",
    "labevents.isnull().sum()"
   ]
  },
  {
   "cell_type": "markdown",
   "id": "dc24eaff",
   "metadata": {},
   "source": [
    "## 6. Initial Insights"
   ]
  },
  {
   "cell_type": "code",
   "execution_count": null,
   "id": "9c7db0de",
   "metadata": {},
   "outputs": [],
   "source": [
    "# Based on this exploratory analysis, we can see:\n",
    "# \n",
    "# 1. The size and scope of our dataset\n",
    "# 2. The distribution of patient demographics\n",
    "# 3. Common lab tests and diagnoses\n",
    "# 4. Areas where data quality might need attention\n",
    "# \n",
    "# Next steps:\n",
    "# 1. Clean and preprocess the data\n",
    "# 2. Create features for the prediction model\n",
    "# 3. Train and evaluate the model "
   ]
  }
 ],
 "metadata": {
  "jupytext": {
   "cell_metadata_filter": "-all",
   "main_language": "python",
   "notebook_metadata_filter": "-all"
  }
 },
 "nbformat": 4,
 "nbformat_minor": 5
}
